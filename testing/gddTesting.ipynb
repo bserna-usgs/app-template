{
 "cells": [
  {
   "cell_type": "code",
   "execution_count": 1,
   "metadata": {
    "collapsed": false
   },
   "outputs": [],
   "source": [
    "#Defines directories and credent\n",
    "execfile('theStuff.py')\n",
    "\n",
    "import psycopg2\n",
    "import getpass\n",
    "import psycopg2.extras\n",
    "import pandas as pd\n",
    "import numpy as np"
   ]
  },
  {
   "cell_type": "code",
   "execution_count": 2,
   "metadata": {
    "collapsed": true
   },
   "outputs": [],
   "source": [
    "\n",
    "conn_string = \"host='localhost' dbname=\" + str(database) + \" user=\" + str(pgu) + \" password=\" + str(passpg)\n",
    "\n",
    "conn= psycopg2.connect(conn_string)\n"
   ]
  },
  {
   "cell_type": "code",
   "execution_count": 3,
   "metadata": {
    "collapsed": false
   },
   "outputs": [
    {
     "name": "stdout",
     "output_type": "stream",
     "text": [
      "Beach\n",
      "dammed Elwha River\n",
      "Washington\n"
     ]
    }
   ],
   "source": [
    "\n",
    "\n",
    "#returns sentences with work dam in it\n",
    "#cursor.execute(\"select b.* from (select docid, sentid, unnest(words) as word from sentences) a left join sentences b on (a.docid=b.docid AND a.sentid=b.sentid) where (lower(a.word) = 'dam' OR lower(a.word) LIKE '%-dam' OR lower(a.word) LIKE 'dam-%') OR lower(a.word) = 'dams' ;\")\n",
    "\n",
    "#Small query return for testing purposes\n",
    "cursor = conn.cursor()\n",
    "cursor.execute(\"select * from public.sentences where docid = '54b43277e138239d86852119' and (sentid =548);\")\n",
    "\n",
    "\n",
    "# Identifies proper nouns in dam related sentences.  This gives us the ability to start querying specific strings\n",
    "for sentence in cursor:\n",
    "    docid = sentence[0]\n",
    "    sentid = sentence[1]\n",
    "    words = sentence[3]\n",
    "    poses = sentence[4]\n",
    "    index_num = len(poses)\n",
    "    for i in xrange(index_num):\n",
    "        #print 'starting i: ' + str(i)\n",
    "        \n",
    "        try:\n",
    "            if i > end_index and poses[i] == \"NNP\" and poses[i+1] == 'NNP':\n",
    "                end_index = i + 1\n",
    "                proper_noun = words[i]\n",
    "                while end_index < index_num and (poses[end_index] == \"NNP\"):\n",
    "                    proper_noun += (\" \" + words[end_index])\n",
    "                    mention_id = \"%s_%d_%d_%d\" % (docid, sentid, i, end_index)\n",
    "                    end_index += 1\n",
    "            elif i > end_index and poses[i] == \"NNP\":\n",
    "                end_index = i \n",
    "                mention_id = \"%s_%d_%d_%d\" % (docid, sentid, i, end_index)\n",
    "                proper_noun = words[i]\n",
    "            else:\n",
    "                continue\n",
    "        except:\n",
    "            if poses[i] == \"NNP\" and poses[i+1] == 'NNP':\n",
    "                end_index = i + 1\n",
    "                proper_noun = words[i]\n",
    "                while end_index < index_num and (poses[end_index] == \"NNP\"):\n",
    "                    proper_noun += (\" \" + words[end_index])\n",
    "                    mention_id = \"%s_%d_%d_%d\" % (docid, sentid, i, end_index)\n",
    "                    end_index += 1\n",
    "            elif poses[i] == \"NNP\":\n",
    "                end_index = i \n",
    "                mention_id = \"%s_%d_%d_%d\" % (docid, sentid, i, end_index)\n",
    "                proper_noun = words[i]\n",
    "            else: \n",
    "                continue\n",
    "        #print mention_id\n",
    "        print proper_noun\n",
    "        \n",
    "    try:\n",
    "        del end_index\n",
    "    except:\n",
    "        continue\n",
    "    try:\n",
    "        del i\n",
    "    except:\n",
    "        continue\n",
    "cursor.close()\n",
    "            "
   ]
  },
  {
   "cell_type": "code",
   "execution_count": null,
   "metadata": {
    "collapsed": true
   },
   "outputs": [],
   "source": []
  }
 ],
 "metadata": {
  "anaconda-cloud": {},
  "kernelspec": {
   "display_name": "Python [default]",
   "language": "python",
   "name": "python2"
  },
  "language_info": {
   "codemirror_mode": {
    "name": "ipython",
    "version": 2
   },
   "file_extension": ".py",
   "mimetype": "text/x-python",
   "name": "python",
   "nbconvert_exporter": "python",
   "pygments_lexer": "ipython2",
   "version": "2.7.12"
  }
 },
 "nbformat": 4,
 "nbformat_minor": 1
}
